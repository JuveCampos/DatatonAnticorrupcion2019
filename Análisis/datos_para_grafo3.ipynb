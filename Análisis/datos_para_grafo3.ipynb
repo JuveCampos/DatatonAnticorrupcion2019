{
 "cells": [
  {
   "cell_type": "markdown",
   "metadata": {},
   "source": [
    "#### Importaciones"
   ]
  },
  {
   "cell_type": "code",
   "execution_count": 20,
   "metadata": {},
   "outputs": [],
   "source": [
    "import requests\n",
    "from pprint import pprint\n",
    "from pymongo import MongoClient\n",
    "import pandas as pd\n",
    "from pandas.io.json import json_normalize\n",
    "import datetime"
   ]
  },
  {
   "cell_type": "markdown",
   "metadata": {},
   "source": [
    "#### Conexión con la base de datos"
   ]
  },
  {
   "cell_type": "code",
   "execution_count": 21,
   "metadata": {
    "scrolled": true
   },
   "outputs": [],
   "source": [
    "# Client connects to \"localhost\" by default\n",
    "client = MongoClient(\"localhost:27017\")\n",
    "db = client.dataton2019\n",
    "\n",
    "serverStatusResult = db.command(\"serverStatus\")\n",
    "## pprint(serverStatusResult)"
   ]
  },
  {
   "cell_type": "markdown",
   "metadata": {},
   "source": [
    "#### Query a la base de datos"
   ]
  },
  {
   "cell_type": "code",
   "execution_count": 22,
   "metadata": {},
   "outputs": [],
   "source": [
    "query ={}\n",
    "projection = {'_id':0, 'ocid':1, 'parties.roles':1, 'parties.id':1, 'awards.value.amount':1, 'awards.suppliers.id':1, 'cycle':1, 'awards.id':1, 'tender.tenderPeriod.startDate':1}\n",
    "res = db.contrataciones.find(query, projection)\n",
    "resList = [item for item in res]"
   ]
  },
  {
   "cell_type": "markdown",
   "metadata": {},
   "source": [
    "#### Definición de funciones auxiliares para crear DataFrame final"
   ]
  },
  {
   "cell_type": "code",
   "execution_count": 4,
   "metadata": {},
   "outputs": [
    {
     "data": {
      "text/plain": [
       "[{'ocid': 'ocds-07smqs-1003803',\n",
       "  'id': 'SAT-284',\n",
       "  'roles': 'b',\n",
       "  'year': '2016',\n",
       "  'month': '02',\n",
       "  'awds': 8451072},\n",
       " {'ocid': 'ocds-07smqs-1003803',\n",
       "  'id': 'SAT970701NN3-006E00002',\n",
       "  'roles': 'p',\n",
       "  'year': '2016',\n",
       "  'month': '02',\n",
       "  'awds': 8451072},\n",
       " {'ocid': 'ocds-07smqs-1003803',\n",
       "  'id': 'E9C1C827AE1234CCF7AC4D9070BB597C',\n",
       "  'roles': 'st',\n",
       "  'year': '2016',\n",
       "  'month': '02',\n",
       "  'awds': 8451072}]"
      ]
     },
     "execution_count": 4,
     "metadata": {},
     "output_type": "execute_result"
    }
   ],
   "source": [
    "def assignRoles(item):\n",
    "    \"\"\"asignar roles: b, s, p, t\"\"\"\n",
    "    string = ''\n",
    "    if 'buyer' in item['roles']: string += 'b'\n",
    "    if 'supplier' in item['roles']: string += 's'\n",
    "    if 'procuringEntity' in item['roles']: string += 'p'\n",
    "    if 'tenderer' in item['roles']: string += 't'\n",
    "    return string\n",
    "\n",
    "\n",
    "def createDicts(element, totList):\n",
    "    \"\"\"\"\"\"\n",
    "    for item in element['parties']:\n",
    "        d = {}\n",
    "        d['ocid'] = element['ocid']\n",
    "        d['id'] = item['id']\n",
    "        d['roles'] = assignRoles(item)\n",
    "        d['year'] = element['tender']['tenderPeriod']['startDate'].split('T')[0].split('-')[0]\n",
    "        d['month'] = element['tender']['tenderPeriod']['startDate'].split('T')[0].split('-')[1]\n",
    "        try:\n",
    "            if (('b' in d['roles']) or ('p' in d['roles'])):\n",
    "                d['awds'] =  sum([award['value']['amount'] for award in element['awards']])\n",
    "            else: \n",
    "                d['awds'] = sum([award['value']['amount'] for award in element['awards'] if d['id']==award['suppliers'][0]['id']])\n",
    "        except:\n",
    "            d['awds'] = 0\n",
    "        totList.append(d)"
   ]
  },
  {
   "cell_type": "markdown",
   "metadata": {},
   "source": [
    "#### Creación de dataframe final"
   ]
  },
  {
   "cell_type": "code",
   "execution_count": 23,
   "metadata": {},
   "outputs": [],
   "source": [
    "totList = [ ]\n",
    "for item in resList:\n",
    "    createDicts(item, totList)\n",
    "\n",
    "contrat_df = pd.DataFrame(totList, columns=['id', 'ocid', 'roles', 'awds', 'month', 'year'])\n",
    "\n",
    "# Eliminar parties duplicadas para un contrato dado\n",
    "contrat_df.drop_duplicates(['id', 'ocid'], inplace=True)\n",
    "\n",
    "# Exportación de datos\n",
    "contrat_df.to_csv('contratacionesDF.csv', index=False)"
   ]
  },
  {
   "cell_type": "markdown",
   "metadata": {},
   "source": [
    "#### Crear un diccionario con los IDs de las parties y sus nombres"
   ]
  },
  {
   "cell_type": "code",
   "execution_count": 3,
   "metadata": {},
   "outputs": [],
   "source": [
    "query ={}\n",
    "projection = {'_id':0, 'parties':1}\n",
    "resul = [item for item in db.contrataciones.find(query, projection)]\n",
    "\n",
    "entities_dict = {item2['id']: item2['name'] for item in resul for item2 in item['parties']}\n",
    "entities_dict\n",
    "\n",
    "keys = []\n",
    "values=[]\n",
    "for k, v in entities_dict.items():\n",
    "    keys.append(k)\n",
    "    values.append(v)\n",
    "entitiesDF = pd.DataFrame({'id':keys, 'name': values})\n",
    "entitiesDF.to_csv('entitiesDF.csv',index=False)"
   ]
  },
  {
   "cell_type": "markdown",
   "metadata": {},
   "source": [
    "#### Crear un DataFrame con solamente los contratos más altos"
   ]
  },
  {
   "cell_type": "code",
   "execution_count": 24,
   "metadata": {},
   "outputs": [],
   "source": [
    "data = pd.read_csv('contratacionesDF.csv')\n",
    "\n",
    "listIDs = []\n",
    "year = 2016\n",
    "for year in [2016, 2017, 2018]:\n",
    "    listIDs.extend(list(data.loc[(data.year==year) & (data.roles== 'p'), :].sort_values(by=['awds'], ascending=False)[:5].ocid))\n",
    "\n",
    "\n",
    "short_data = data.loc[data.ocid.isin(listIDs), :]\n",
    "short_data.to_csv('contratacionesShort.csv', index=False)\n",
    "short_data"
   ]
  }
 ],
 "metadata": {
  "kernelspec": {
   "display_name": "Python 3",
   "language": "python",
   "name": "python3"
  },
  "language_info": {
   "codemirror_mode": {
    "name": "ipython",
    "version": 3
   },
   "file_extension": ".py",
   "mimetype": "text/x-python",
   "name": "python",
   "nbconvert_exporter": "python",
   "pygments_lexer": "ipython3",
   "version": "3.7.2"
  }
 },
 "nbformat": 4,
 "nbformat_minor": 2
}
